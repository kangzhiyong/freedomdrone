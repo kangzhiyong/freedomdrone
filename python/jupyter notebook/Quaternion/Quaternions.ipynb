{
 "cells": [
  {
   "cell_type": "markdown",
   "metadata": {},
   "source": [
    "## Quaternions\n"
   ]
  },
  {
   "cell_type": "markdown",
   "metadata": {},
   "source": [
    "In the following exercise you'll implement functions to convert between Euler angles and quaternion representations. It's useful to be able to easily navigate back and forth between these representations because of their relative strengths. Quaternions are better for calculations, while Euler angles are far more intuitive.\n",
    "\n",
    "Some messages coming from your drone in simulation (or in the real world) will represent orientation data as a quaternion, while others use Euler angles. So it's a good idea to be able to seamlessly handle both. \n",
    "\n",
    "The [`udacidrone` API imlementation](https://github.com/udacity/udacidrone/blob/master/udacidrone/connection/message_types.py#L189-L284) that you're using for the projects in this program already has these conversions implemented under the hood so that's a great place to start if you aren't sure how to complete this exercise!"
   ]
  },
  {
   "cell_type": "code",
   "execution_count": 2,
   "metadata": {},
   "outputs": [],
   "source": [
    "import numpy as np\n",
    "\n",
    "def euler_to_quaternion(angles):\n",
    "    roll = angles[0] / 2\n",
    "    pitch = angles[1] / 2\n",
    "    yaw = angles[2] / 2\n",
    "\n",
    "    sin_roll = np.sin(roll)\n",
    "    cos_roll = np.cos(roll)\n",
    "    sin_pitch = np.sin(pitch)\n",
    "    cos_pitch = np.cos(pitch)\n",
    "    sin_yaw = np.sin(yaw)\n",
    "    cos_yaw = np.cos(yaw)\n",
    "\n",
    "    # TODO: complete the conversion\n",
    "    # and return a numpy array of\n",
    "    # 4 elements representing a quaternion [a, b, c, d]\n",
    "    return np.array([cos_roll * cos_pitch * cos_yaw +\n",
    "                     sin_roll * sin_pitch * sin_yaw,\n",
    "                     sin_roll * cos_pitch * cos_yaw -\n",
    "                     cos_roll * sin_pitch * sin_yaw,\n",
    "                     cos_roll * sin_pitch * cos_yaw +\n",
    "                     sin_roll * cos_pitch * sin_yaw,\n",
    "                     cos_roll * cos_pitch * sin_yaw -\n",
    "                     sin_roll * sin_pitch * cos_yaw])\n",
    "\n",
    "def quaternion_to_euler(quaternion):\n",
    "    a = quaternion[0]\n",
    "    b = quaternion[1]\n",
    "    c = quaternion[2]\n",
    "    d = quaternion[3]\n",
    "    \n",
    "    # TODO: complete the conversion\n",
    "    # and return a numpy array of\n",
    "    # 3 element representing the euler angles [roll, pitch, yaw]\n",
    "    tmp1 = (1 - 2 * (np.square(b) + np.square(c)))\n",
    "    tmp2 = (1 - 2 * (np.square(c) + np.square(d)))\n",
    "    roll = 90 * np.pi / 180\n",
    "    yaw = 90 * np.pi / 180\n",
    "    if tmp1 != 0:\n",
    "        np.arctan((2 * (a * b + c * d)) / tmp1)\n",
    "    pitch = np.arcsin(2 * (a * c - d * b))\n",
    "    if tmp2 != 0:\n",
    "        yaw = np.arctan((2 * (a * d + b * c)) / tmp2)\n",
    "    return np.array([roll, pitch, yaw])"
   ]
  },
  {
   "cell_type": "markdown",
   "metadata": {},
   "source": [
    "Test the conversion."
   ]
  },
  {
   "cell_type": "code",
   "execution_count": 3,
   "metadata": {},
   "outputs": [
    {
     "name": "stdout",
     "output_type": "stream",
     "text": [
      "[ 0.6830127  0.6830127  0.1830127 -0.1830127]\n"
     ]
    }
   ],
   "source": [
    "euler = np.array([np.deg2rad(90), np.deg2rad(30), np.deg2rad(0)])\n",
    "\n",
    "q = euler_to_quaternion(euler) # should be [ 0.683  0.683  0.183 -0.183]\n",
    "print(q)\n",
    "\n",
    "assert np.allclose(euler, quaternion_to_euler(q))"
   ]
  },
  {
   "cell_type": "markdown",
   "metadata": {},
   "source": [
    "Here's our [solution](/notebooks/Quaternions-Solution.ipynb)!"
   ]
  },
  {
   "cell_type": "code",
   "execution_count": null,
   "metadata": {},
   "outputs": [],
   "source": []
  }
 ],
 "metadata": {
  "kernelspec": {
   "display_name": "Python 3",
   "language": "python",
   "name": "python3"
  },
  "language_info": {
   "codemirror_mode": {
    "name": "ipython",
    "version": 3
   },
   "file_extension": ".py",
   "mimetype": "text/x-python",
   "name": "python",
   "nbconvert_exporter": "python",
   "pygments_lexer": "ipython3",
   "version": "3.6.3"
  }
 },
 "nbformat": 4,
 "nbformat_minor": 2
}
