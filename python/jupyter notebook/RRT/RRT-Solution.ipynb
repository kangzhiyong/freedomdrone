{
 "cells": [
  {
   "cell_type": "markdown",
   "metadata": {},
   "source": [
    "# Rapidly-Exploring Random Tree (RRT)\n",
    "\n",
    "Your task is to generate an RRT based on the following pseudocode:\n",
    "\n",
    "```\n",
    "def generate_RRT(x_init, num_vertices, dt):\n",
    "    rrt = RRT(x_init)\n",
    "    for k in range(num_vertices):\n",
    "        x_rand = sample_state()\n",
    "        x_near = nearest_neighbor(x_rand, rrt)\n",
    "        u = select_input(x_rand, x_near)\n",
    "        x_new = new_state(x_near, u, dt)\n",
    "        # directed edge\n",
    "        rrt.add_edge(x_near, x_new, u)\n",
    "    return rrt\n",
    "```\n",
    "    \n",
    "The `RRT` class has already been implemented. Your task is to complete the implementation of the following functions:\n",
    "\n",
    "* `sample_state`\n",
    "* `nearest_neighbor`\n",
    "* `select_input`\n",
    "* `new_state`\n"
   ]
  },
  {
   "cell_type": "code",
   "execution_count": 1,
   "metadata": {},
   "outputs": [],
   "source": [
    "import numpy as np \n",
    "import matplotlib.pyplot as plt\n",
    "from sklearn.neighbors import KDTree\n",
    "import networkx as nx\n",
    "\n",
    "%matplotlib inline "
   ]
  },
  {
   "cell_type": "code",
   "execution_count": 2,
   "metadata": {},
   "outputs": [],
   "source": [
    "plt.rcParams['figure.figsize'] = 12, 12"
   ]
  },
  {
   "cell_type": "code",
   "execution_count": 2,
   "metadata": {},
   "outputs": [],
   "source": [
    "class RRT:\n",
    "    def __init__(self, x_init):\n",
    "        # A tree is a special case of a graph with\n",
    "        # directed edges and only one path to any vertex.\n",
    "        self.tree = nx.DiGraph()\n",
    "        self.tree.add_node(x_init)\n",
    "                \n",
    "    def add_vertex(self, x_new):\n",
    "        self.tree.add_node(tuple(x_init))\n",
    "    \n",
    "    def add_edge(self, x_near, x_new, u):\n",
    "        self.tree.add_edge(tuple(x_near), tuple(x_new), orientation=u)\n",
    "        \n",
    "    @property\n",
    "    def vertices(self):\n",
    "        return self.tree.nodes()\n",
    "    \n",
    "    @property\n",
    "    def edges(self):\n",
    "        return self.tree.edges()\n",
    "                                                  "
   ]
  },
  {
   "cell_type": "code",
   "execution_count": 3,
   "metadata": {},
   "outputs": [],
   "source": [
    "def create_grid():\n",
    "    grid = np.zeros((100, 100))\n",
    "    # build some obstacles\n",
    "    grid[10:20, 10:20] = 1\n",
    "    grid[63:80, 10:20] = 1\n",
    "    grid[43:60, 30:40] = 1\n",
    "    grid[71:86, 38:50] = 1\n",
    "    grid[10:20, 55:67] = 1\n",
    "    grid[80:90, 80:90] = 1\n",
    "    grid[75:90, 80:90] = 1\n",
    "    grid[30:40, 60:82] = 1\n",
    "    return grid"
   ]
  },
  {
   "cell_type": "code",
   "execution_count": 4,
   "metadata": {},
   "outputs": [],
   "source": [
    "# environment encoded as a grid\n",
    "grid = create_grid()"
   ]
  },
  {
   "cell_type": "markdown",
   "metadata": {},
   "source": [
    "Let's take a look at the example environment we'll be using."
   ]
  },
  {
   "cell_type": "code",
   "execution_count": 5,
   "metadata": {},
   "outputs": [
    {
     "data": {
      "text/plain": [
       "<matplotlib.image.AxesImage at 0x7f9dfed94278>"
      ]
     },
     "execution_count": 5,
     "metadata": {},
     "output_type": "execute_result"
    },
    {
     "data": {
      "image/png": "[encoded data removed]",
      "text/plain": [
       "<matplotlib.figure.Figure at 0x7f9e00da6e10>"
      ]
     },
     "metadata": {
      "needs_background": "light"
     },
     "output_type": "display_data"
    }
   ],
   "source": [
    "plt.imshow(grid, cmap='Greys', origin='upper')"
   ]
  },
  {
   "cell_type": "markdown",
   "metadata": {},
   "source": [
    "Next you'll implement the functions necessary to generate an RRT. Feel free to change the function signatures however you please, just remember to update `generate_RRT` accordingly."
   ]
  },
  {
   "cell_type": "markdown",
   "metadata": {},
   "source": [
    "### Sampling States\n",
    "\n",
    "The first part of generating an RRT is sampling states based on the environment. The sampled state must be in free space. "
   ]
  },
  {
   "cell_type": "code",
   "execution_count": 6,
   "metadata": {},
   "outputs": [],
   "source": [
    "def sample_state(grid):\n",
    "    x = np.random.uniform(0, grid.shape[0])\n",
    "    y = np.random.uniform(0, grid.shape[1])\n",
    "    return (x, y)"
   ]
  },
  {
   "cell_type": "markdown",
   "metadata": {},
   "source": [
    "### Nearest Neighbors\n",
    "\n",
    "A critical part of the RRT procedure is finding the closest vertex to the sampled random point. This the most computationally intensive part so be mindful of that. Depending on the number of vertices a naive implementation will run into trouble quickly."
   ]
  },
  {
   "cell_type": "code",
   "execution_count": 7,
   "metadata": {},
   "outputs": [],
   "source": [
    "def nearest_neighbor(x_rand, rrt):\n",
    "    closest_dist = 100000\n",
    "    closest_vertex = None\n",
    "    x_rand = np.array(x_rand)\n",
    "    \n",
    "    for v in rrt.vertices:\n",
    "        d = np.linalg.norm(x_rand - np.array(v[:2]))\n",
    "        if d < closest_dist:\n",
    "            closest_dist = d\n",
    "            closest_vertex = v\n",
    "    return closest_vertex"
   ]
  },
  {
   "cell_type": "markdown",
   "metadata": {},
   "source": [
    "### Selecting Inputs\n",
    "\n",
    "Select input which moves `x_near` closer to `x_rand`. This should return the angle or orientation of the vehicle."
   ]
  },
  {
   "cell_type": "code",
   "execution_count": 8,
   "metadata": {},
   "outputs": [],
   "source": [
    "def select_input(x_rand, x_near):\n",
    "    return np.arctan2(x_rand[1] - x_near[1], x_rand[0] - x_near[0])"
   ]
  },
  {
   "cell_type": "markdown",
   "metadata": {},
   "source": [
    "### New State\n",
    "\n"
   ]
  },
  {
   "cell_type": "markdown",
   "metadata": {},
   "source": [
    "The new vertex `x_new` is calculated by travelling from the current vertex `x_near` with a orientation `u` for time `dt`."
   ]
  },
  {
   "cell_type": "code",
   "execution_count": 9,
   "metadata": {},
   "outputs": [],
   "source": [
    "def new_state(x_near, u, dt):\n",
    "    nx = x_near[0] + np.cos(u)*dt\n",
    "    ny = x_near[1] + np.sin(u)*dt\n",
    "    return [nx, ny]"
   ]
  },
  {
   "cell_type": "markdown",
   "metadata": {},
   "source": [
    "### Putting It All Together\n",
    "\n",
    "Awesome! Now we'll put everything together and generate an RRT."
   ]
  },
  {
   "cell_type": "code",
   "execution_count": 10,
   "metadata": {},
   "outputs": [],
   "source": [
    "def generate_RRT(grid, x_init, num_vertices, dt):\n",
    "    \n",
    "    rrt = RRT(x_init)\n",
    "    \n",
    "    for _ in range(num_vertices):\n",
    "        \n",
    "        x_rand = sample_state(grid)\n",
    "        # sample states until a free state is found\n",
    "        while grid[int(x_rand[0]), int(x_rand[1])] == 1:\n",
    "            x_rand = sample_state(grid)\n",
    "            \n",
    "        x_near = nearest_neighbor(x_rand, rrt)\n",
    "        u = select_input(x_rand, x_near)\n",
    "        x_new = new_state(x_near, u, dt)\n",
    "            \n",
    "        if grid[int(x_new[0]), int(x_new[1])] == 0:\n",
    "            # the orientation `u` will be added as metadata to\n",
    "            # the edge\n",
    "            rrt.add_edge(x_near, x_new, u)\n",
    "            \n",
    "    return rrt"
   ]
  },
  {
   "cell_type": "markdown",
   "metadata": {},
   "source": [
    "Feel free to change any of the values below."
   ]
  },
  {
   "cell_type": "code",
   "execution_count": 11,
   "metadata": {},
   "outputs": [],
   "source": [
    "num_vertices = 300\n",
    "dt = 1\n",
    "x_init = (50, 50)\n",
    "\n",
    "rrt = generate_RRT(grid, x_init, num_vertices, dt)"
   ]
  },
  {
   "cell_type": "markdown",
   "metadata": {},
   "source": [
    "Now let's plot the generated RRT."
   ]
  },
  {
   "cell_type": "code",
   "execution_count": 12,
   "metadata": {},
   "outputs": [
    {
     "data": {
      "image/png": "[encoded data removed]",
      "text/plain": [
       "<matplotlib.figure.Figure at 0x7f9e00dd9e80>"
      ]
     },
     "metadata": {
      "needs_background": "light"
     },
     "output_type": "display_data"
    }
   ],
   "source": [
    "plt.imshow(grid, cmap='Greys', origin='lower')\n",
    "plt.plot(x_init[1], x_init[0], 'ro')\n",
    "\n",
    "for (v1, v2) in rrt.edges:\n",
    "    plt.plot([v1[1], v2[1]], [v1[0], v2[0]], 'y-')\n",
    "\n",
    "plt.show()"
   ]
  },
  {
   "cell_type": "code",
   "execution_count": null,
   "metadata": {},
   "outputs": [],
   "source": []
  },
  {
   "cell_type": "code",
   "execution_count": null,
   "metadata": {},
   "outputs": [],
   "source": []
  }
 ],
 "metadata": {
  "kernelspec": {
   "display_name": "Python 3",
   "language": "python",
   "name": "python3"
  },
  "language_info": {
   "codemirror_mode": {
    "name": "ipython",
    "version": 3
   },
   "file_extension": ".py",
   "mimetype": "text/x-python",
   "name": "python",
   "nbconvert_exporter": "python",
   "pygments_lexer": "ipython3",
   "version": "3.6.3"
  }
 },
 "nbformat": 4,
 "nbformat_minor": 2
}
